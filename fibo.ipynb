{
 "cells": [
  {
   "cell_type": "code",
   "execution_count": 2,
   "id": "dda73059",
   "metadata": {},
   "outputs": [],
   "source": [
    "def recursive_fibonacci(n): \n",
    "    if n<=1: \n",
    "        return n \n",
    "    else: \n",
    "        return recursive_fibonacci(n-1) + recursive_fibonacci(n-2)"
   ]
  },
  {
   "cell_type": "code",
   "execution_count": 3,
   "id": "8d983035",
   "metadata": {},
   "outputs": [
    {
     "name": "stdout",
     "output_type": "stream",
     "text": [
      "0\n",
      "1\n",
      "1\n",
      "2\n",
      "3\n",
      "5\n",
      "8\n",
      "13\n",
      "21\n",
      "34\n"
     ]
    }
   ],
   "source": [
    "n=10\n",
    "for i in range(n):\n",
    "    print(recursive_fibonacci(i))\n",
    "    "
   ]
  },
  {
   "cell_type": "code",
   "execution_count": 4,
   "id": "2d937eaf",
   "metadata": {},
   "outputs": [],
   "source": [
    "def non_recursive(n):\n",
    "    first=0\n",
    "    second=1\n",
    "    print(first)\n",
    "    print(second)\n",
    "    \n",
    "    while n-2>0:\n",
    "        third=first+second\n",
    "        first=second\n",
    "        second=third\n",
    "        print(third)\n",
    "        n-=1\n",
    "    \n",
    "   "
   ]
  },
  {
   "cell_type": "code",
   "execution_count": 5,
   "id": "c586bc69",
   "metadata": {},
   "outputs": [
    {
     "name": "stdout",
     "output_type": "stream",
     "text": [
      "0\n",
      "1\n",
      "1\n",
      "2\n",
      "3\n",
      "5\n",
      "8\n",
      "13\n",
      "21\n",
      "34\n"
     ]
    }
   ],
   "source": [
    "non_recursive(10)"
   ]
  },
  {
   "cell_type": "code",
   "execution_count": 7,
   "id": "8f50c351",
   "metadata": {},
   "outputs": [
    {
     "name": "stdout",
     "output_type": "stream",
     "text": [
      "8\n"
     ]
    }
   ],
   "source": [
    "print(recursive_fibonacci(6))"
   ]
  },
  {
   "cell_type": "code",
   "execution_count": null,
   "id": "9ed100af",
   "metadata": {},
   "outputs": [],
   "source": []
  }
 ],
 "metadata": {
  "kernelspec": {
   "display_name": "Python 3 (ipykernel)",
   "language": "python",
   "name": "python3"
  },
  "language_info": {
   "codemirror_mode": {
    "name": "ipython",
    "version": 3
   },
   "file_extension": ".py",
   "mimetype": "text/x-python",
   "name": "python",
   "nbconvert_exporter": "python",
   "pygments_lexer": "ipython3",
   "version": "3.10.9"
  }
 },
 "nbformat": 4,
 "nbformat_minor": 5
}
